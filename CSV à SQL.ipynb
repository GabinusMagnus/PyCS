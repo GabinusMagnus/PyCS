{
 "cells": [
  {
   "cell_type": "code",
   "execution_count": 14,
   "metadata": {},
   "outputs": [],
   "source": [
    "import sqlite3\n",
    "import csv\n",
    "\n",
    "# connexion à la base de données\n",
    "connexion = sqlite3.connect('db_test.db')\n",
    "\n",
    "# objet curseur pour écrire dans la base de données\n",
    "# curseur_db = connexion.cursor()\n",
    "\n",
    "# ouvrir le fichier csv en lecture\n",
    "testcsv = open('test.csv', 'r', newline='')\n",
    "\n",
    "#lireCSV = testcsv.read()\n",
    "#lireCSV = csv.reader(testcsv)"
   ]
  },
  {
   "cell_type": "markdown",
   "metadata": {},
   "source": [
    "> csv.reader renvoie une itération. La sortie n'est pas une liste ou un autre type pratiquement exploitable.\n",
    "\n",
    "## Récupération des login et mdp à partir de la sortie de csv.reader dans un tableau.\n",
    "\n",
    "Première méthode en parcourant la sortie globale (les rangées du fichiers .csv sont comptées comme des sous-éléments de la sortie)."
   ]
  },
  {
   "cell_type": "code",
   "execution_count": 16,
   "metadata": {},
   "outputs": [
    {
     "data": {
      "text/plain": [
       "[['Lui', 'mdp_test'], ['Elle', 'test_mdp']]"
      ]
     },
     "execution_count": 16,
     "metadata": {},
     "output_type": "execute_result"
    }
   ],
   "source": [
    "tableau_login_mdp = []\n",
    "rangee_tableau = 0\n",
    "for rangeeCSV in list(csv.reader(testcsv)):\n",
    "    tableau_login_mdp.append([]) # nouvelle rangée\n",
    "    tableau_login_mdp[rangee_tableau].extend([rangeeCSV[0], rangeeCSV[1]]) # ajout de login et mdp dans la nouvelle rangée\n",
    "    rangee_tableau += 1\n",
    "tableau_login_mdp"
   ]
  },
  {
   "cell_type": "markdown",
   "metadata": {},
   "source": [
    "Deuxième méthode, sans itérer sur les éléments-mêmes de la sortie. Essai infructueux pour le moment."
   ]
  },
  {
   "cell_type": "code",
   "execution_count": 6,
   "metadata": {},
   "outputs": [
    {
     "data": {
      "text/plain": [
       "[]"
      ]
     },
     "execution_count": 6,
     "metadata": {},
     "output_type": "execute_result"
    }
   ],
   "source": [
    "tableau_login_mdp = []\n",
    "for rangee in range(len(list(csv.reader(testcsv)))-1):\n",
    "    tableau_login_mdp.append([])\n",
    "    tableau_login_mdp[rangee].extend(list(csv.reader(testcsv))[rangee][0], list(csv.reader(testcsv))[rangee][1])\n",
    "tableau_login_mdp"
   ]
  },
  {
   "cell_type": "markdown",
   "metadata": {},
   "source": [
    "### Insertion des login et mdp dans la base de données\n",
    "\n",
    "Avec INSERT. Je verrai ensuite UPDATE."
   ]
  },
  {
   "cell_type": "code",
   "execution_count": 23,
   "metadata": {},
   "outputs": [
    {
     "data": {
      "text/plain": [
       "[['Lui', 'mdp_test'], ['Elle', 'test_mdp']]"
      ]
     },
     "execution_count": 23,
     "metadata": {},
     "output_type": "execute_result"
    }
   ],
   "source": [
    "tableau_login_mdp"
   ]
  },
  {
   "cell_type": "code",
   "execution_count": 22,
   "metadata": {},
   "outputs": [
    {
     "data": {
      "text/plain": [
       "[('Lui', 'mdp_test', 'Il aime les choux.'),\n",
       " ('Elle', 'test_mdp', \"Elle n'aime pas les choux.\"),\n",
       " ('Lui', 'mdp_test', None),\n",
       " ('Elle', 'test_mdp', None),\n",
       " ('Lui', 'mdp_test', None),\n",
       " ('Elle', 'test_mdp', None)]"
      ]
     },
     "execution_count": 22,
     "metadata": {},
     "output_type": "execute_result"
    }
   ],
   "source": [
    "for rangee in tableau_login_mdp:\n",
    "    \n",
    "    connexion.execute(\"INSERT INTO test (login, mdp) VALUES (?, ?);\", (rangee[0], rangee[1]))\n",
    "connexion.execute(\"SELECT * FROM test\").fetchall()"
   ]
  },
  {
   "cell_type": "code",
   "execution_count": 24,
   "metadata": {},
   "outputs": [],
   "source": [
    "connexion.commit()\n",
    "connexion.close()"
   ]
  },
  {
   "cell_type": "markdown",
   "metadata": {},
   "source": []
  }
 ],
 "metadata": {
  "kernelspec": {
   "display_name": "Python 3",
   "language": "python",
   "name": "python3"
  },
  "language_info": {
   "codemirror_mode": {
    "name": "ipython",
    "version": 3
   },
   "file_extension": ".py",
   "mimetype": "text/x-python",
   "name": "python",
   "nbconvert_exporter": "python",
   "pygments_lexer": "ipython3",
   "version": "3.10.13"
  }
 },
 "nbformat": 4,
 "nbformat_minor": 2
}
