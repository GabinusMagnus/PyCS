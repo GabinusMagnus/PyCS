{
 "cells": [
  {
   "cell_type": "code",
   "execution_count": 17,
   "metadata": {},
   "outputs": [],
   "source": [
    "exec(open(\"base_creation.py\").read())"
   ]
  },
  {
   "cell_type": "code",
   "execution_count": 128,
   "metadata": {},
   "outputs": [],
   "source": [
    "import sqlite3\n",
    "import csv\n",
    "\n",
    "# connexion à la base de données\n",
    "connexion = sqlite3.connect('db_test.db')\n",
    "\n",
    "# ouvrir le fichier csv en lecture\n",
    "testcsv = open('test.csv', 'r', newline='')"
   ]
  },
  {
   "cell_type": "markdown",
   "metadata": {},
   "source": [
    "> csv.reader renvoie une itération. La sortie n'est pas une liste ou un autre type pratiquement exploitable.\n",
    "\n",
    "## Récupération des login et mdp à partir de la sortie de csv.reader dans un tableau.\n",
    "\n",
    "Première méthode en parcourant la sortie globale (les rangées du fichiers .csv sont comptées comme des sous-éléments de la sortie)."
   ]
  },
  {
   "cell_type": "code",
   "execution_count": 127,
   "metadata": {},
   "outputs": [
    {
     "data": {
      "text/plain": [
       "[['Lui', 'mdp_test'],\n",
       " ['Elle', 'test_mdp'],\n",
       " ['Arche', 'noe'],\n",
       " ['Titanic', 'triste'],\n",
       " ['Cyrus', 'le Grand'],\n",
       " ['Xerxès', 'le roi des rois']]"
      ]
     },
     "execution_count": 127,
     "metadata": {},
     "output_type": "execute_result"
    }
   ],
   "source": [
    "tableau_login_mdp = []\n",
    "rangee_tableau = 0\n",
    "for rangee in list(csv.reader(testcsv)):\n",
    "    tableau_login_mdp.append([rangee[0], rangee[1]]) # ajout de login et mdp dans une nouvelle rangée\n",
    "    rangee_tableau += 1\n",
    "tableau_login_mdp"
   ]
  },
  {
   "cell_type": "markdown",
   "metadata": {},
   "source": [
    "Deuxième méthode, sans itérer sur les éléments-mêmes de la sortie."
   ]
  },
  {
   "cell_type": "code",
   "execution_count": 129,
   "metadata": {},
   "outputs": [
    {
     "data": {
      "text/plain": [
       "[['Lui', 'mdp_test'],\n",
       " ['Elle', 'test_mdp'],\n",
       " ['Arche', 'noe'],\n",
       " ['Titanic', 'triste'],\n",
       " ['Cyrus', 'le Grand']]"
      ]
     },
     "execution_count": 129,
     "metadata": {},
     "output_type": "execute_result"
    }
   ],
   "source": [
    "tableau_login_mdp = []\n",
    "tableauCSV = list(csv.reader(testcsv)) # la sortie de csv.reader ne peut pas être appelée plusieurs fois, alors on la stocke dans une variable.\n",
    "for rangee in range(len(tableauCSV)-1):\n",
    "    tableau_login_mdp.append([tableauCSV[rangee][0], tableauCSV[rangee][1]])\n",
    "tableau_login_mdp"
   ]
  },
  {
   "cell_type": "markdown",
   "metadata": {},
   "source": [
    "### Insertion des login et mdp dans la base de données\n",
    "\n",
    "Avec INSERT."
   ]
  },
  {
   "cell_type": "code",
   "execution_count": 46,
   "metadata": {},
   "outputs": [
    {
     "data": {
      "text/plain": [
       "[('Lui', 'mdp_test', 'Il aime les choux.'),\n",
       " ('Elle', 'test_mdp', \"Elle n'aime pas les choux.\"),\n",
       " ('Cyrus', 'à remplacer', None),\n",
       " ('Xerxès', 'à remplacer', None),\n",
       " ('Lui', 'mdp_test', None),\n",
       " ('Elle', 'test_mdp', None),\n",
       " ('Arche', 'noe', None),\n",
       " ('Titanic', 'triste', None),\n",
       " ('Cyrus', 'le Grand', None),\n",
       " ('Xerxès', 'le roi des rois', None)]"
      ]
     },
     "execution_count": 46,
     "metadata": {},
     "output_type": "execute_result"
    }
   ],
   "source": [
    "for rangee in tableau_login_mdp:\n",
    "    connexion.execute(\"INSERT INTO test (login, mdp) VALUES (?, ?);\", (rangee[0], rangee[1]))\n",
    "connexion.execute(\"SELECT * FROM test\").fetchall()"
   ]
  },
  {
   "cell_type": "markdown",
   "metadata": {},
   "source": [
    "### mise à jour des login et mdp dans la base de données\n",
    "\n",
    "Avec UPDATE."
   ]
  },
  {
   "cell_type": "code",
   "execution_count": 84,
   "metadata": {},
   "outputs": [],
   "source": [
    "for loginSQL in connexion.execute(\"SELECT login, mdp FROM test\").fetchall():\n",
    "    for loginCSV in tableau_login_mdp:\n",
    "        # login est un tuple, contenant seulement le login, au format ('login', ).\n",
    "        if loginSQL[0] == loginCSV[0] and loginSQL[1] != loginCSV[1]: # Si le mdp SQL est différent du mdp CSV\n",
    "            connexion.execute(\"UPDATE test SET mdp = ? WHERE mdp = ?\", (loginCSV[1], loginSQL[1])) # Remplacer le mdp SQL par le mdp CSV"
   ]
  },
  {
   "cell_type": "code",
   "execution_count": 85,
   "metadata": {},
   "outputs": [
    {
     "data": {
      "text/plain": [
       "[('Lui', 'mdp_test'),\n",
       " ('Elle', 'test_mdp'),\n",
       " ('Cyrus', 'le Grand'),\n",
       " ('Xerxès', 'le Grand')]"
      ]
     },
     "execution_count": 85,
     "metadata": {},
     "output_type": "execute_result"
    }
   ],
   "source": [
    "connexion.execute(\"SELECT login, mdp FROM test\").fetchall()"
   ]
  },
  {
   "cell_type": "code",
   "execution_count": 86,
   "metadata": {},
   "outputs": [],
   "source": [
    "connexion.commit()\n",
    "connexion.close()"
   ]
  },
  {
   "cell_type": "code",
   "execution_count": null,
   "metadata": {},
   "outputs": [],
   "source": []
  }
 ],
 "metadata": {
  "kernelspec": {
   "display_name": "Python 3",
   "language": "python",
   "name": "python3"
  },
  "language_info": {
   "codemirror_mode": {
    "name": "ipython",
    "version": 3
   },
   "file_extension": ".py",
   "mimetype": "text/x-python",
   "name": "python",
   "nbconvert_exporter": "python",
   "pygments_lexer": "ipython3",
   "version": "3.10.13"
  }
 },
 "nbformat": 4,
 "nbformat_minor": 2
}
