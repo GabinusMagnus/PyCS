{
 "cells": [
  {
   "cell_type": "code",
   "execution_count": 3,
   "metadata": {},
   "outputs": [],
   "source": [
    "import sqlite3\n",
    "import csv\n",
    "\n",
    "# connexion à la base de données\n",
    "\n",
    "connexion = sqlite3.connect('db_test.db')\n",
    "\n",
    "# objet curseur pour écrire dans la base de données\n",
    "\n",
    "# curseur_db = connexion.cursor()\n",
    "\n",
    "# ouvrir le fichier csv en lecture\n",
    "testcsv = open('test.csv', 'r', newline='')\n",
    "# objet pour lire le fichier .csv\n",
    "lireCSV = testcsv.read()"
   ]
  },
  {
   "cell_type": "markdown",
   "metadata": {},
   "source": [
    "> L'objet curseur permet d'exécuter des requêtes SQL.\n",
    "\n",
    "Le curseur permet aussi d'exécuter des requêtes LMD *et* LDD dans la base de données.\n",
    "\n",
    "Récupération des mdp et login du fichier .csv dans une liste."
   ]
  },
  {
   "cell_type": "code",
   "execution_count": null,
   "metadata": {},
   "outputs": [],
   "source": [
    "for \n",
    "curseur_db.execute()"
   ]
  },
  {
   "cell_type": "code",
   "execution_count": null,
   "metadata": {},
   "outputs": [],
   "source": [
    "connexion.commit()\n",
    "connexion.close()"
   ]
  },
  {
   "cell_type": "markdown",
   "metadata": {},
   "source": []
  }
 ],
 "metadata": {
  "kernelspec": {
   "display_name": "Python 3",
   "language": "python",
   "name": "python3"
  },
  "language_info": {
   "codemirror_mode": {
    "name": "ipython",
    "version": 3
   },
   "file_extension": ".py",
   "mimetype": "text/x-python",
   "name": "python",
   "nbconvert_exporter": "python",
   "pygments_lexer": "ipython3",
   "version": "3.10.13"
  }
 },
 "nbformat": 4,
 "nbformat_minor": 2
}
