{
 "cells": [
  {
   "cell_type": "code",
   "execution_count": 17,
   "metadata": {},
   "outputs": [],
   "source": [
    "exec(open(\"base_creation.py\").read())"
   ]
  },
  {
   "cell_type": "code",
   "execution_count": 27,
   "metadata": {},
   "outputs": [],
   "source": [
    "import sqlite3\n",
    "import csv\n",
    "\n",
    "# connexion à la base de données\n",
    "connexion = sqlite3.connect('db_test.db')\n",
    "\n",
    "# ouvrir le fichier csv en lecture\n",
    "testcsv = open('test.csv', 'r', newline='')"
   ]
  },
  {
   "cell_type": "markdown",
   "metadata": {},
   "source": [
    "> csv.reader renvoie une itération. La sortie n'est pas une liste ou un autre type pratiquement exploitable.\n",
    "\n",
    "## Récupération des login et mdp à partir de la sortie de csv.reader dans un tableau.\n",
    "\n",
    "Première méthode en parcourant la sortie globale (les rangées du fichiers .csv sont comptées comme des sous-éléments de la sortie)."
   ]
  },
  {
   "cell_type": "code",
   "execution_count": 50,
   "metadata": {},
   "outputs": [
    {
     "data": {
      "text/plain": [
       "[['Lui', 'mdp_test'],\n",
       " ['Elle', 'test_mdp'],\n",
       " ['Arche', 'noe'],\n",
       " ['Titanic', 'triste'],\n",
       " ['Cyrus', 'le Grand'],\n",
       " ['Xerxès', 'le roi des rois']]"
      ]
     },
     "execution_count": 50,
     "metadata": {},
     "output_type": "execute_result"
    }
   ],
   "source": [
    "tableau_login_mdp = []\n",
    "rangee_tableau = 0\n",
    "for rangeeCSV in list(csv.reader(testcsv)):\n",
    "    tableau_login_mdp.append([]) # nouvelle rangée\n",
    "    tableau_login_mdp[rangee_tableau].extend([rangeeCSV[0], rangeeCSV[1]]) # ajout de login et mdp dans la nouvelle rangée\n",
    "    rangee_tableau += 1\n",
    "tableau_login_mdp"
   ]
  },
  {
   "cell_type": "markdown",
   "metadata": {},
   "source": [
    "Deuxième méthode, sans itérer sur les éléments-mêmes de la sortie. Essai infructueux pour le moment."
   ]
  },
  {
   "cell_type": "code",
   "execution_count": 15,
   "metadata": {},
   "outputs": [
    {
     "ename": "IndexError",
     "evalue": "list index out of range",
     "output_type": "error",
     "traceback": [
      "\u001b[0;31m---------------------------------------------------------------------------\u001b[0m",
      "\u001b[0;31mIndexError\u001b[0m                                Traceback (most recent call last)",
      "Cell \u001b[0;32mIn[15], line 4\u001b[0m\n\u001b[1;32m      2\u001b[0m \u001b[38;5;28;01mfor\u001b[39;00m rangee \u001b[38;5;129;01min\u001b[39;00m \u001b[38;5;28mrange\u001b[39m(\u001b[38;5;28mlen\u001b[39m(\u001b[38;5;28mlist\u001b[39m(csv\u001b[38;5;241m.\u001b[39mreader(testcsv)))\u001b[38;5;241m-\u001b[39m\u001b[38;5;241m1\u001b[39m):\n\u001b[1;32m      3\u001b[0m     tableau_login_mdp\u001b[38;5;241m.\u001b[39mappend([])\n\u001b[0;32m----> 4\u001b[0m     tableau_login_mdp[rangee]\u001b[38;5;241m.\u001b[39mextend(\u001b[38;5;28;43mlist\u001b[39;49m\u001b[43m(\u001b[49m\u001b[43mcsv\u001b[49m\u001b[38;5;241;43m.\u001b[39;49m\u001b[43mreader\u001b[49m\u001b[43m(\u001b[49m\u001b[43mtestcsv\u001b[49m\u001b[43m)\u001b[49m\u001b[43m)\u001b[49m\u001b[43m[\u001b[49m\u001b[43mrangee\u001b[49m\u001b[43m]\u001b[49m[\u001b[38;5;241m0\u001b[39m], \u001b[38;5;28mlist\u001b[39m(csv\u001b[38;5;241m.\u001b[39mreader(testcsv))[rangee][\u001b[38;5;241m1\u001b[39m])\n\u001b[1;32m      5\u001b[0m tableau_login_mdp\n",
      "\u001b[0;31mIndexError\u001b[0m: list index out of range"
     ]
    }
   ],
   "source": [
    "tableau_login_mdp = []\n",
    "for rangee in range(len(list(csv.reader(testcsv)))-1):\n",
    "    tableau_login_mdp.append([])\n",
    "    tableau_login_mdp[rangee].extend(list(csv.reader(testcsv))[rangee][0], list(csv.reader(testcsv))[rangee][1])\n",
    "tableau_login_mdp"
   ]
  },
  {
   "cell_type": "markdown",
   "metadata": {},
   "source": [
    "### Insertion des login et mdp dans la base de données\n",
    "\n",
    "Avec INSERT."
   ]
  },
  {
   "cell_type": "code",
   "execution_count": 51,
   "metadata": {},
   "outputs": [
    {
     "data": {
      "text/plain": [
       "[['Lui', 'mdp_test'],\n",
       " ['Elle', 'test_mdp'],\n",
       " ['Arche', 'noe'],\n",
       " ['Titanic', 'triste'],\n",
       " ['Cyrus', 'le Grand'],\n",
       " ['Xerxès', 'le roi des rois']]"
      ]
     },
     "execution_count": 51,
     "metadata": {},
     "output_type": "execute_result"
    }
   ],
   "source": [
    "tableau_login_mdp"
   ]
  },
  {
   "cell_type": "code",
   "execution_count": 46,
   "metadata": {},
   "outputs": [
    {
     "data": {
      "text/plain": [
       "[('Lui', 'mdp_test', 'Il aime les choux.'),\n",
       " ('Elle', 'test_mdp', \"Elle n'aime pas les choux.\"),\n",
       " ('Cyrus', 'à remplacer', None),\n",
       " ('Xerxès', 'à remplacer', None),\n",
       " ('Lui', 'mdp_test', None),\n",
       " ('Elle', 'test_mdp', None),\n",
       " ('Arche', 'noe', None),\n",
       " ('Titanic', 'triste', None),\n",
       " ('Cyrus', 'le Grand', None),\n",
       " ('Xerxès', 'le roi des rois', None)]"
      ]
     },
     "execution_count": 46,
     "metadata": {},
     "output_type": "execute_result"
    }
   ],
   "source": [
    "for rangee in tableau_login_mdp:\n",
    "    \n",
    "    connexion.execute(\"INSERT INTO test (login, mdp) VALUES (?, ?);\", (rangee[0], rangee[1]))\n",
    "connexion.execute(\"SELECT * FROM test\").fetchall()"
   ]
  },
  {
   "cell_type": "markdown",
   "metadata": {},
   "source": [
    "### mise à jour des login et mdp dans la base de données\n",
    "\n",
    "Avec UPDATE."
   ]
  },
  {
   "cell_type": "code",
   "execution_count": 54,
   "metadata": {},
   "outputs": [
    {
     "data": {
      "text/plain": [
       "12"
      ]
     },
     "execution_count": 54,
     "metadata": {},
     "output_type": "execute_result"
    }
   ],
   "source": [
    "longueur_recursive = len(connexion.execute(\"SELECT login FROM test\").fetchall() *"
   ]
  },
  {
   "cell_type": "code",
   "execution_count": 84,
   "metadata": {},
   "outputs": [],
   "source": [
    "for loginSQL in connexion.execute(\"SELECT login, mdp FROM test\").fetchall():\n",
    "    for loginCSV in tableau_login_mdp:\n",
    "        # login est un tuple, contenant seulement le login, au format ('login', ).\n",
    "        if loginSQL[0] == loginCSV[0] and loginSQL[1] != loginCSV[1]: # Si le mdp SQL est différent du mdp CSV\n",
    "            connexion.execute(\"UPDATE test SET mdp = ? WHERE mdp = ?\", (loginCSV[1], loginSQL[1])) # Remplacer le mdp SQL par le mdp CSV"
   ]
  },
  {
   "cell_type": "code",
   "execution_count": 85,
   "metadata": {},
   "outputs": [
    {
     "data": {
      "text/plain": [
       "[('Lui', 'mdp_test'),\n",
       " ('Elle', 'test_mdp'),\n",
       " ('Cyrus', 'le Grand'),\n",
       " ('Xerxès', 'le Grand')]"
      ]
     },
     "execution_count": 85,
     "metadata": {},
     "output_type": "execute_result"
    }
   ],
   "source": [
    "connexion.execute(\"SELECT login, mdp FROM test\").fetchall()"
   ]
  },
  {
   "cell_type": "code",
   "execution_count": 86,
   "metadata": {},
   "outputs": [],
   "source": [
    "connexion.commit()\n",
    "connexion.close()"
   ]
  },
  {
   "cell_type": "code",
   "execution_count": null,
   "metadata": {},
   "outputs": [],
   "source": []
  }
 ],
 "metadata": {
  "kernelspec": {
   "display_name": "Python 3",
   "language": "python",
   "name": "python3"
  },
  "language_info": {
   "codemirror_mode": {
    "name": "ipython",
    "version": 3
   },
   "file_extension": ".py",
   "mimetype": "text/x-python",
   "name": "python",
   "nbconvert_exporter": "python",
   "pygments_lexer": "ipython3",
   "version": "3.10.13"
  }
 },
 "nbformat": 4,
 "nbformat_minor": 2
}
