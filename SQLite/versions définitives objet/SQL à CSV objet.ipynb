{
 "cells": [
  {
   "cell_type": "code",
   "execution_count": 3,
   "metadata": {},
   "outputs": [],
   "source": [
    "import sqlite3\n",
    "import csv\n",
    "\n",
    "# connexion à la base de données\n",
    "\n",
    "connexion = sqlite3.connect('db_test.db')\n",
    "\n",
    "# ouvrir le fichier csv en écriture\n",
    "testcsv = open('test.csv', 'w', newline='')\n",
    "\n",
    "# objet pour écrire dans test.csv \n",
    "ecrireCSV = csv.writer(testcsv)"
   ]
  },
  {
   "cell_type": "markdown",
   "metadata": {},
   "source": [
    "> Le fichier test.csv est ouvert en écriture, ecrireCSV est un objet qui y inscrira login et mdp.\n",
    "Récupération des valeurs des descripteurs login et mdp de la base db_test.db."
   ]
  },
  {
   "cell_type": "code",
   "execution_count": 4,
   "metadata": {},
   "outputs": [
    {
     "name": "stdout",
     "output_type": "stream",
     "text": [
      "('Lui', 'mdp_test')\n",
      "('Elle', 'test_mdp')\n"
     ]
    }
   ],
   "source": [
    "for i in connexion.execute('SELECT login, mdp FROM test').fetchall():\n",
    "    print(i)"
   ]
  },
  {
   "cell_type": "markdown",
   "metadata": {},
   "source": [
    "**Conversion des tuples récupérés en liste. Les listes constitueront un tableau \"à deux colonnes\" contenant login et mdp.**"
   ]
  },
  {
   "cell_type": "code",
   "execution_count": 5,
   "metadata": {},
   "outputs": [
    {
     "data": {
      "text/plain": [
       "[['Lui', 'mdp_test'], ['Elle', 'test_mdp']]"
      ]
     },
     "execution_count": 5,
     "metadata": {},
     "output_type": "execute_result"
    }
   ],
   "source": [
    "liste_login_mdp = []\n",
    "for i in connexion.execute('SELECT login, mdp FROM test').fetchall():\n",
    "    liste_login_mdp.append(list(i))\n",
    "liste_login_mdp"
   ]
  },
  {
   "cell_type": "code",
   "execution_count": 6,
   "metadata": {},
   "outputs": [],
   "source": [
    "ecrireCSV.writerows(liste_login_mdp)"
   ]
  },
  {
   "cell_type": "code",
   "execution_count": 7,
   "metadata": {},
   "outputs": [
    {
     "name": "stdout",
     "output_type": "stream",
     "text": [
      "Lui,mdp_test\n",
      "Elle,test_mdp\n",
      "\n"
     ]
    }
   ],
   "source": [
    "testcsv.close()\n",
    "testcsv = open(\"test.csv\", \"r\")\n",
    "print(testcsv.read())"
   ]
  },
  {
   "cell_type": "code",
   "execution_count": 8,
   "metadata": {},
   "outputs": [],
   "source": [
    "connexion.commit()\n",
    "connexion.close()"
   ]
  },
  {
   "cell_type": "code",
   "execution_count": null,
   "metadata": {},
   "outputs": [],
   "source": []
  }
 ],
 "metadata": {
  "kernelspec": {
   "display_name": "Python 3",
   "language": "python",
   "name": "python3"
  },
  "language_info": {
   "codemirror_mode": {
    "name": "ipython",
    "version": 3
   },
   "file_extension": ".py",
   "mimetype": "text/x-python",
   "name": "python",
   "nbconvert_exporter": "python",
   "pygments_lexer": "ipython3",
   "version": "3.12.undefined"
  }
 },
 "nbformat": 4,
 "nbformat_minor": 2
}
