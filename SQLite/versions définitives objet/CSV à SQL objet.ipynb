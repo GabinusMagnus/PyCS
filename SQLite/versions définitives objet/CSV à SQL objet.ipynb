{
 "cells": [
  {
   "cell_type": "code",
   "execution_count": 16,
   "metadata": {},
   "outputs": [],
   "source": [
    "import sqlite3\n",
    "import csv\n",
    "\n",
    "class csv_a_sql:\n",
    "\n",
    "    def __init__(self, chemin_db, chemin_csv):\n",
    "        \"\"\"\n",
    "        chemin_db : chemin du fichier de la base de données\n",
    "        chemin_csv : chemin du fichier .CSV \n",
    "        \"\"\"\n",
    "\n",
    "        self.connexion = sqlite3.connect(chemin_db)\n",
    "        self.fichiercsv = list(csv.reader(open(chemin_csv, 'r', newline='')))\n",
    "        \n",
    "        # tableau contenant les login et mdp renseignés dans le fichier .csv\n",
    "        self.tableau_login_mdp = []\n",
    "\n",
    "        for rangee in list(self.fichiercsv):\n",
    "            self.tableau_login_mdp.append([rangee[0], rangee[1]]) # ajout de login et mdp dans une nouvelle rangée\n",
    "\n",
    "\n",
    "    def renvoie_csv(self):\n",
    "        \"\"\"\n",
    "        renvoie le tableau contenant les mdp et login renseignés dans le fichier .csv.\n",
    "        \"\"\"\n",
    "        return self.tableau_login_mdp\n",
    "    \n",
    "\n",
    "    def select(self, colonnes : str):\n",
    "        self.connexion.execute(\"SELECT \"+colonnes+\" FROM test\")\n",
    "\n",
    "\n",
    "    def insert(self):\n",
    "        \"\"\"\n",
    "        insertion dans la base de données de tous les login et mdp du fichier .CSV\n",
    "        \"\"\"\n",
    "        for rangee in self.tableau_login_mdp:\n",
    "            self.connexion.execute(\"INSERT INTO test (login, mdp) VALUES (?, ?);\", (rangee[0], rangee[1]))\n",
    "        return self.connexion.execute(\"SELECT * FROM test\").fetchall()\n",
    "\n",
    "    def update(self):\n",
    "        \"\"\"\n",
    "        mise à jour du mot de passe des utilisateurs de la base données selon le fichier .CSV\n",
    "        \"\"\"\n",
    "        for loginSQL in self.connexion.execute(\"SELECT login, mdp FROM test\").fetchall():\n",
    "            for loginCSV in self.tableau_login_mdp:\n",
    "                # login est un tuple, contenant seulement le login, au format ('login', ).\n",
    "                if loginSQL[0] == loginCSV[0] and loginSQL[1] != loginCSV[1]: # Si le mdp SQL est différent du mdp CSV\n",
    "                    self.connexion.execute(\"UPDATE test SET mdp = ? WHERE mdp = ?\", (loginCSV[1], loginSQL[1])) # Remplacer le mdp SQL par le mdp CSV\n",
    "    \n"
   ]
  },
  {
   "cell_type": "code",
   "execution_count": 17,
   "metadata": {},
   "outputs": [],
   "source": [
    "maj = csv_a_sql('db_test.db', 'test.csv')"
   ]
  },
  {
   "cell_type": "code",
   "execution_count": 18,
   "metadata": {},
   "outputs": [
    {
     "data": {
      "text/plain": [
       "[['Lui', 'mdp_test'],\n",
       " ['Elle', 'test_mdp'],\n",
       " ['Arche', 'noe'],\n",
       " ['Titanic', 'triste'],\n",
       " ['Cyrus', 'le Grand'],\n",
       " ['Xerxès', 'le roi des rois']]"
      ]
     },
     "execution_count": 18,
     "metadata": {},
     "output_type": "execute_result"
    }
   ],
   "source": [
    "maj.retourne_tableau()"
   ]
  },
  {
   "cell_type": "code",
   "execution_count": 19,
   "metadata": {},
   "outputs": [
    {
     "data": {
      "text/plain": [
       "[('Lui', 'mdp_test', 'Il aime les choux.'),\n",
       " ('Elle', 'test_mdp', \"Elle n'aime pas les choux.\"),\n",
       " ('Cyrus', 'à remplacer', None),\n",
       " ('Xerxès', 'à remplacer', None),\n",
       " ('Lui', 'mdp_test', None),\n",
       " ('Elle', 'test_mdp', None),\n",
       " ('Arche', 'noe', None),\n",
       " ('Titanic', 'triste', None),\n",
       " ('Cyrus', 'le Grand', None),\n",
       " ('Xerxès', 'le roi des rois', None)]"
      ]
     },
     "execution_count": 19,
     "metadata": {},
     "output_type": "execute_result"
    }
   ],
   "source": [
    "maj.insert()"
   ]
  },
  {
   "cell_type": "code",
   "execution_count": null,
   "metadata": {},
   "outputs": [],
   "source": [
    "maj.update()"
   ]
  }
 ],
 "metadata": {
  "kernelspec": {
   "display_name": "Python 3",
   "language": "python",
   "name": "python3"
  },
  "language_info": {
   "codemirror_mode": {
    "name": "ipython",
    "version": 3
   },
   "file_extension": ".py",
   "mimetype": "text/x-python",
   "name": "python",
   "nbconvert_exporter": "python",
   "pygments_lexer": "ipython3",
   "version": "3.10.13"
  }
 },
 "nbformat": 4,
 "nbformat_minor": 2
}
