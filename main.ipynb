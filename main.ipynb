{
 "cells": [
  {
   "cell_type": "code",
   "execution_count": 12,
   "metadata": {},
   "outputs": [],
   "source": [
    "import sqlite3\n",
    "import csv\n",
    "\n",
    "# connexion à la base de données\n",
    "\n",
    "connexion = sqlite3.connect('database.db')\n",
    "\n",
    "# ouvrir le fichier csv\n",
    "testcsv = open('test.csv', 'w')\n",
    "\n",
    "# objet pour écrire dans test.csv \n",
    "ecrire = csv.writer(testcsv)"
   ]
  },
  {
   "cell_type": "markdown",
   "metadata": {},
   "source": [
    "> Le fichier test.csv est ouvert en écriture, ecrire est un objet qui y inscrira login et mdp.\n",
    "Création d'un tableau contenant les valeurs des descripteurs login et mdp de la base db_test.db."
   ]
  },
  {
   "cell_type": "code",
   "execution_count": 16,
   "metadata": {},
   "outputs": [
    {
     "name": "stdout",
     "output_type": "stream",
     "text": [
      "('Lui', 'mdp_test')\n",
      "('Elle', 'test_mdp')\n"
     ]
    }
   ],
   "source": [
    "for i in connexion.execute('SELECT login, mdp FROM test').fetchall():\n",
    "    print(i)"
   ]
  },
  {
   "cell_type": "code",
   "execution_count": 11,
   "metadata": {},
   "outputs": [],
   "source": [
    "connexion.close()"
   ]
  },
  {
   "cell_type": "code",
   "execution_count": null,
   "metadata": {},
   "outputs": [],
   "source": [
    "ecrire.writerows"
   ]
  }
 ],
 "metadata": {
  "kernelspec": {
   "display_name": "Python 3",
   "language": "python",
   "name": "python3"
  },
  "language_info": {
   "codemirror_mode": {
    "name": "ipython",
    "version": 3
   },
   "file_extension": ".py",
   "mimetype": "text/x-python",
   "name": "python",
   "nbconvert_exporter": "python",
   "pygments_lexer": "ipython3",
   "version": "3.10.13"
  }
 },
 "nbformat": 4,
 "nbformat_minor": 2
}
